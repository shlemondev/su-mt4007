{
 "cells": [
  {
   "cell_type": "markdown",
   "id": "f59d068d-ebf5-47d2-9b31-ebae7a3381a2",
   "metadata": {
    "tags": []
   },
   "source": [
    "# Homework1\n",
    "\n",
    "*I'm Shlemon and it has been almost 30 years ago since I used to be a maths/physics student.* \n",
    "\n",
    "*I've been working as a highschool teacher for many years, but decided to update and develop my knowledge in order to transition into Data Science eventually.* \n",
    "\n",
    "*My previous experience of Data Science is basically introductory courses in Python and R programming.*"
   ]
  },
  {
   "cell_type": "code",
   "execution_count": null,
   "id": "fba609b2-15bb-4bcc-b7d1-6c164d9f7d6f",
   "metadata": {},
   "outputs": [],
   "source": []
  }
 ],
 "metadata": {
  "kernelspec": {
   "display_name": "Python 3 (ipykernel)",
   "language": "python",
   "name": "python3"
  },
  "language_info": {
   "codemirror_mode": {
    "name": "ipython",
    "version": 3
   },
   "file_extension": ".py",
   "mimetype": "text/x-python",
   "name": "python",
   "nbconvert_exporter": "python",
   "pygments_lexer": "ipython3",
   "version": "3.11.7"
  }
 },
 "nbformat": 4,
 "nbformat_minor": 5
}
