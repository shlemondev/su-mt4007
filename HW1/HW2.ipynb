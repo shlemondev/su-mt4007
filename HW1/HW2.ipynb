{
 "cells": [
  {
   "cell_type": "markdown",
   "id": "43728f0c-e36f-42ae-a6a4-ba65038a4ee6",
   "metadata": {},
   "source": [
    "# Homework 2 - tables and plots"
   ]
  },
  {
   "cell_type": "markdown",
   "id": "7a60bcca-5341-4fc8-b5ff-dbde42771b67",
   "metadata": {},
   "source": [
    "In order to work with tables and plots in python, I need to import necessary modules"
   ]
  },
  {
   "cell_type": "code",
   "execution_count": 167,
   "id": "8ce53edb-52c8-4563-b134-91fb3a981362",
   "metadata": {
    "tags": []
   },
   "outputs": [],
   "source": [
    "#Import modules for working with dataframes and visualisation\n",
    "import pandas as pd\n",
    "import matplotlib.pyplot as plt\n",
    "import seaborn as sns"
   ]
  },
  {
   "cell_type": "markdown",
   "id": "fb6c2fdd-580f-40c4-af90-fdf7509e9c7e",
   "metadata": {},
   "source": [
    "### Part 1 - Apartment prices"
   ]
  },
  {
   "cell_type": "markdown",
   "id": "ca6ffdea-54da-4714-afc1-5cc6edeca06e",
   "metadata": {},
   "source": [
    "Fetch data from file which can be found in the github repository for the course.\n",
    "Select the file Booli_sold.csv and press raw to download the data.\n",
    "Use the url to read the data from csv format into dataframe in python.\n",
    "\n",
    "View how the data looks like in a table to get an overview of the data."
   ]
  },
  {
   "cell_type": "code",
   "execution_count": 170,
   "id": "7b5ee06a-be4d-4e10-b538-f65b1743ac6e",
   "metadata": {
    "tags": []
   },
   "outputs": [
    {
     "data": {
      "text/html": [
       "<div>\n",
       "<style scoped>\n",
       "    .dataframe tbody tr th:only-of-type {\n",
       "        vertical-align: middle;\n",
       "    }\n",
       "\n",
       "    .dataframe tbody tr th {\n",
       "        vertical-align: top;\n",
       "    }\n",
       "\n",
       "    .dataframe thead th {\n",
       "        text-align: right;\n",
       "    }\n",
       "</style>\n",
       "<table border=\"1\" class=\"dataframe\">\n",
       "  <thead>\n",
       "    <tr style=\"text-align: right;\">\n",
       "      <th></th>\n",
       "      <th>listPrice</th>\n",
       "      <th>rent</th>\n",
       "      <th>livingArea</th>\n",
       "      <th>rooms</th>\n",
       "      <th>published</th>\n",
       "      <th>constructionYear</th>\n",
       "      <th>objectType</th>\n",
       "      <th>booliId</th>\n",
       "      <th>soldDate</th>\n",
       "      <th>soldPrice</th>\n",
       "      <th>...</th>\n",
       "      <th>location.position.latitude</th>\n",
       "      <th>location.position.longitude</th>\n",
       "      <th>location.position.isApproximate</th>\n",
       "      <th>location.region.municipalityName</th>\n",
       "      <th>location.region.countyName</th>\n",
       "      <th>location.distance.ocean</th>\n",
       "      <th>source.name</th>\n",
       "      <th>source.id</th>\n",
       "      <th>source.type</th>\n",
       "      <th>source.url</th>\n",
       "    </tr>\n",
       "  </thead>\n",
       "  <tbody>\n",
       "    <tr>\n",
       "      <th>0</th>\n",
       "      <td>3995000</td>\n",
       "      <td>4467.0</td>\n",
       "      <td>73.0</td>\n",
       "      <td>3.0</td>\n",
       "      <td>2018-10-15 13:33:18</td>\n",
       "      <td>1935.0</td>\n",
       "      <td>Lägenhet</td>\n",
       "      <td>3263989</td>\n",
       "      <td>2018-11-08</td>\n",
       "      <td>3820000</td>\n",
       "      <td>...</td>\n",
       "      <td>59.371033</td>\n",
       "      <td>18.054057</td>\n",
       "      <td>NaN</td>\n",
       "      <td>Stockholm</td>\n",
       "      <td>Stockholms län</td>\n",
       "      <td>260</td>\n",
       "      <td>MOHV</td>\n",
       "      <td>1901865</td>\n",
       "      <td>Broker</td>\n",
       "      <td>http://www.mohv.se/</td>\n",
       "    </tr>\n",
       "    <tr>\n",
       "      <th>1</th>\n",
       "      <td>1995000</td>\n",
       "      <td>1773.0</td>\n",
       "      <td>36.0</td>\n",
       "      <td>1.0</td>\n",
       "      <td>2018-10-05 14:29:28</td>\n",
       "      <td>1968.0</td>\n",
       "      <td>Lägenhet</td>\n",
       "      <td>3256231</td>\n",
       "      <td>2018-10-19</td>\n",
       "      <td>2355000</td>\n",
       "      <td>...</td>\n",
       "      <td>59.371242</td>\n",
       "      <td>18.057821</td>\n",
       "      <td>NaN</td>\n",
       "      <td>Stockholm</td>\n",
       "      <td>Stockholms län</td>\n",
       "      <td>218</td>\n",
       "      <td>Notar</td>\n",
       "      <td>1566</td>\n",
       "      <td>Broker</td>\n",
       "      <td>http://www.notar.se/</td>\n",
       "    </tr>\n",
       "    <tr>\n",
       "      <th>2</th>\n",
       "      <td>5100000</td>\n",
       "      <td>3839.0</td>\n",
       "      <td>81.0</td>\n",
       "      <td>3.0</td>\n",
       "      <td>2018-09-11 13:44:43</td>\n",
       "      <td>1936.0</td>\n",
       "      <td>Lägenhet</td>\n",
       "      <td>3236660</td>\n",
       "      <td>2018-09-27</td>\n",
       "      <td>6110000</td>\n",
       "      <td>...</td>\n",
       "      <td>59.371617</td>\n",
       "      <td>18.054716</td>\n",
       "      <td>NaN</td>\n",
       "      <td>Stockholm</td>\n",
       "      <td>Stockholms län</td>\n",
       "      <td>186</td>\n",
       "      <td>Historiska Hem AB</td>\n",
       "      <td>65645750</td>\n",
       "      <td>Broker</td>\n",
       "      <td>http://historiskahem.se/</td>\n",
       "    </tr>\n",
       "    <tr>\n",
       "      <th>3</th>\n",
       "      <td>5495000</td>\n",
       "      <td>4483.0</td>\n",
       "      <td>107.0</td>\n",
       "      <td>4.0</td>\n",
       "      <td>2018-08-25 02:56:56</td>\n",
       "      <td>1936.0</td>\n",
       "      <td>Lägenhet</td>\n",
       "      <td>3224374</td>\n",
       "      <td>2018-09-06</td>\n",
       "      <td>8050000</td>\n",
       "      <td>...</td>\n",
       "      <td>59.371480</td>\n",
       "      <td>18.053880</td>\n",
       "      <td>NaN</td>\n",
       "      <td>Stockholm</td>\n",
       "      <td>Stockholms län</td>\n",
       "      <td>218</td>\n",
       "      <td>Notar</td>\n",
       "      <td>1566</td>\n",
       "      <td>Broker</td>\n",
       "      <td>http://www.notar.se/</td>\n",
       "    </tr>\n",
       "    <tr>\n",
       "      <th>4</th>\n",
       "      <td>1995000</td>\n",
       "      <td>1696.0</td>\n",
       "      <td>29.0</td>\n",
       "      <td>1.0</td>\n",
       "      <td>2018-06-15 17:16:19</td>\n",
       "      <td>1936.0</td>\n",
       "      <td>Lägenhet</td>\n",
       "      <td>3185496</td>\n",
       "      <td>2018-06-18</td>\n",
       "      <td>2400000</td>\n",
       "      <td>...</td>\n",
       "      <td>59.372160</td>\n",
       "      <td>18.053542</td>\n",
       "      <td>True</td>\n",
       "      <td>Stockholm</td>\n",
       "      <td>Stockholms län</td>\n",
       "      <td>166</td>\n",
       "      <td>Mäklarhuset</td>\n",
       "      <td>204</td>\n",
       "      <td>Broker</td>\n",
       "      <td>http://www.maklarhuset.se/</td>\n",
       "    </tr>\n",
       "  </tbody>\n",
       "</table>\n",
       "<p>5 rows × 27 columns</p>\n",
       "</div>"
      ],
      "text/plain": [
       "   listPrice    rent  livingArea  rooms            published  \\\n",
       "0    3995000  4467.0        73.0    3.0  2018-10-15 13:33:18   \n",
       "1    1995000  1773.0        36.0    1.0  2018-10-05 14:29:28   \n",
       "2    5100000  3839.0        81.0    3.0  2018-09-11 13:44:43   \n",
       "3    5495000  4483.0       107.0    4.0  2018-08-25 02:56:56   \n",
       "4    1995000  1696.0        29.0    1.0  2018-06-15 17:16:19   \n",
       "\n",
       "   constructionYear objectType  booliId    soldDate  soldPrice  ...  \\\n",
       "0            1935.0   Lägenhet  3263989  2018-11-08    3820000  ...   \n",
       "1            1968.0   Lägenhet  3256231  2018-10-19    2355000  ...   \n",
       "2            1936.0   Lägenhet  3236660  2018-09-27    6110000  ...   \n",
       "3            1936.0   Lägenhet  3224374  2018-09-06    8050000  ...   \n",
       "4            1936.0   Lägenhet  3185496  2018-06-18    2400000  ...   \n",
       "\n",
       "  location.position.latitude location.position.longitude  \\\n",
       "0                  59.371033                   18.054057   \n",
       "1                  59.371242                   18.057821   \n",
       "2                  59.371617                   18.054716   \n",
       "3                  59.371480                   18.053880   \n",
       "4                  59.372160                   18.053542   \n",
       "\n",
       "   location.position.isApproximate  location.region.municipalityName  \\\n",
       "0                              NaN                         Stockholm   \n",
       "1                              NaN                         Stockholm   \n",
       "2                              NaN                         Stockholm   \n",
       "3                              NaN                         Stockholm   \n",
       "4                             True                         Stockholm   \n",
       "\n",
       "   location.region.countyName  location.distance.ocean        source.name  \\\n",
       "0              Stockholms län                      260               MOHV   \n",
       "1              Stockholms län                      218              Notar   \n",
       "2              Stockholms län                      186  Historiska Hem AB   \n",
       "3              Stockholms län                      218              Notar   \n",
       "4              Stockholms län                      166        Mäklarhuset   \n",
       "\n",
       "   source.id  source.type                  source.url  \n",
       "0    1901865       Broker         http://www.mohv.se/  \n",
       "1       1566       Broker        http://www.notar.se/  \n",
       "2   65645750       Broker    http://historiskahem.se/  \n",
       "3       1566       Broker        http://www.notar.se/  \n",
       "4        204       Broker  http://www.maklarhuset.se/  \n",
       "\n",
       "[5 rows x 27 columns]"
      ]
     },
     "execution_count": 170,
     "metadata": {},
     "output_type": "execute_result"
    }
   ],
   "source": [
    "#Read from file and store in a dataframe table\n",
    "df= pd.read_csv(\"https://raw.githubusercontent.com/su-mt4007/data/refs/heads/main/Booli_sold.csv\")\n",
    "\n",
    "# View five rows of table\n",
    "df.head()\n",
    "\n"
   ]
  },
  {
   "cell_type": "markdown",
   "id": "65dfd997-1da3-4666-ada5-5911a3570752",
   "metadata": {},
   "source": [
    "Not all columns are shown since too many variables (columns).\n",
    "It is useful to get a list of all variable names which helps me to select relevant data later on."
   ]
  },
  {
   "cell_type": "code",
   "execution_count": 6,
   "id": "6e3c883f-a70e-4b07-8d3b-e4bf337f549a",
   "metadata": {
    "tags": []
   },
   "outputs": [
    {
     "name": "stdout",
     "output_type": "stream",
     "text": [
      "listPrice\n",
      "rent\n",
      "livingArea\n",
      "rooms\n",
      "published\n",
      "constructionYear\n",
      "objectType\n",
      "booliId\n",
      "soldDate\n",
      "soldPrice\n",
      "soldPriceSource\n",
      "url\n",
      "floor\n",
      "additionalArea\n",
      "apartmentNumber\n",
      "plotArea\n",
      "location.address.streetAddress\n",
      "location.position.latitude\n",
      "location.position.longitude\n",
      "location.position.isApproximate\n",
      "location.region.municipalityName\n",
      "location.region.countyName\n",
      "location.distance.ocean\n",
      "source.name\n",
      "source.id\n",
      "source.type\n",
      "source.url\n"
     ]
    }
   ],
   "source": [
    "#Check variable names\n",
    "print(\"\\n\".join(df.columns)) \n",
    "\n"
   ]
  },
  {
   "cell_type": "markdown",
   "id": "862f73d5-d5a2-4a88-be86-b21c9d8ab92c",
   "metadata": {},
   "source": [
    "#### 1.  Calculate the price per square meter for each apartment sold\n",
    "\n",
    " Calculate the selling price per quare meter (ppSqm) by using the existing data, soldPrice and livingArea,\n",
    " derived by the formula   ppSqm = soldPrice / livingArea \n",
    " \n",
    " Create a new column ppSqm to store the derived data. Select variables of interest to be presented in the table."
   ]
  },
  {
   "cell_type": "code",
   "execution_count": 175,
   "id": "86c1ff12-813a-4b54-81f0-5f45c7622330",
   "metadata": {
    "tags": []
   },
   "outputs": [
    {
     "data": {
      "text/html": [
       "<div>\n",
       "<style scoped>\n",
       "    .dataframe tbody tr th:only-of-type {\n",
       "        vertical-align: middle;\n",
       "    }\n",
       "\n",
       "    .dataframe tbody tr th {\n",
       "        vertical-align: top;\n",
       "    }\n",
       "\n",
       "    .dataframe thead th {\n",
       "        text-align: right;\n",
       "    }\n",
       "</style>\n",
       "<table border=\"1\" class=\"dataframe\">\n",
       "  <thead>\n",
       "    <tr style=\"text-align: right;\">\n",
       "      <th></th>\n",
       "      <th>booliId</th>\n",
       "      <th>listPrice</th>\n",
       "      <th>rent</th>\n",
       "      <th>livingArea</th>\n",
       "      <th>soldPrice</th>\n",
       "      <th>floor</th>\n",
       "      <th>location.address.streetAddress</th>\n",
       "      <th>ppSqm</th>\n",
       "      <th>source.name</th>\n",
       "    </tr>\n",
       "  </thead>\n",
       "  <tbody>\n",
       "    <tr>\n",
       "      <th>0</th>\n",
       "      <td>3263989</td>\n",
       "      <td>3995000</td>\n",
       "      <td>4467.0</td>\n",
       "      <td>73.0</td>\n",
       "      <td>3820000</td>\n",
       "      <td>NaN</td>\n",
       "      <td>Åminnevägen 19</td>\n",
       "      <td>52329.0</td>\n",
       "      <td>MOHV</td>\n",
       "    </tr>\n",
       "    <tr>\n",
       "      <th>1</th>\n",
       "      <td>3256231</td>\n",
       "      <td>1995000</td>\n",
       "      <td>1773.0</td>\n",
       "      <td>36.0</td>\n",
       "      <td>2355000</td>\n",
       "      <td>1.0</td>\n",
       "      <td>Docentbacken 9</td>\n",
       "      <td>65417.0</td>\n",
       "      <td>Notar</td>\n",
       "    </tr>\n",
       "    <tr>\n",
       "      <th>2</th>\n",
       "      <td>3236660</td>\n",
       "      <td>5100000</td>\n",
       "      <td>3839.0</td>\n",
       "      <td>81.0</td>\n",
       "      <td>6110000</td>\n",
       "      <td>3.0</td>\n",
       "      <td>Ekhagsvägen 5</td>\n",
       "      <td>75432.0</td>\n",
       "      <td>Historiska Hem AB</td>\n",
       "    </tr>\n",
       "    <tr>\n",
       "      <th>3</th>\n",
       "      <td>3224374</td>\n",
       "      <td>5495000</td>\n",
       "      <td>4483.0</td>\n",
       "      <td>107.0</td>\n",
       "      <td>8050000</td>\n",
       "      <td>3.0</td>\n",
       "      <td>Torphagsvägen 4</td>\n",
       "      <td>75234.0</td>\n",
       "      <td>Notar</td>\n",
       "    </tr>\n",
       "    <tr>\n",
       "      <th>4</th>\n",
       "      <td>3185496</td>\n",
       "      <td>1995000</td>\n",
       "      <td>1696.0</td>\n",
       "      <td>29.0</td>\n",
       "      <td>2400000</td>\n",
       "      <td>3.0</td>\n",
       "      <td>Torphagsvägen 14</td>\n",
       "      <td>82759.0</td>\n",
       "      <td>Mäklarhuset</td>\n",
       "    </tr>\n",
       "  </tbody>\n",
       "</table>\n",
       "</div>"
      ],
      "text/plain": [
       "   booliId  listPrice    rent  livingArea  soldPrice  floor  \\\n",
       "0  3263989    3995000  4467.0        73.0    3820000    NaN   \n",
       "1  3256231    1995000  1773.0        36.0    2355000    1.0   \n",
       "2  3236660    5100000  3839.0        81.0    6110000    3.0   \n",
       "3  3224374    5495000  4483.0       107.0    8050000    3.0   \n",
       "4  3185496    1995000  1696.0        29.0    2400000    3.0   \n",
       "\n",
       "  location.address.streetAddress    ppSqm        source.name  \n",
       "0                 Åminnevägen 19  52329.0               MOHV  \n",
       "1                 Docentbacken 9  65417.0              Notar  \n",
       "2                  Ekhagsvägen 5  75432.0  Historiska Hem AB  \n",
       "3                Torphagsvägen 4  75234.0              Notar  \n",
       "4               Torphagsvägen 14  82759.0        Mäklarhuset  "
      ]
     },
     "execution_count": 175,
     "metadata": {},
     "output_type": "execute_result"
    }
   ],
   "source": [
    "# Mutate - add new column ppSqm for price per square meter\n",
    "df.loc[:, 'ppSqm'] = (df['soldPrice'] / df['livingArea']).round()\n",
    "\n",
    "#Subset of dataframe - select variables of interest\n",
    "selected_df = df[['booliId', 'listPrice', 'rent', 'livingArea', 'soldPrice', 'floor',\\\n",
    "                  'location.address.streetAddress', 'ppSqm', 'source.name']]\n",
    "\n",
    "# Preview of table\n",
    "selected_df.head()\n",
    "\n"
   ]
  },
  {
   "cell_type": "markdown",
   "id": "63670f11-e01b-4dd0-8d38-f6b2424d85ac",
   "metadata": {},
   "source": [
    "#### 2.  Rank the top 5 most expensive apartments with respect to ppSqm"
   ]
  },
  {
   "cell_type": "markdown",
   "id": "caf5d8d5-73ed-4da9-8e8a-6337f7ddede4",
   "metadata": {},
   "source": [
    "Use selected data to sorting it in descending order with respect to ppSqm"
   ]
  },
  {
   "cell_type": "code",
   "execution_count": 178,
   "id": "02167408-b7f1-4cd4-ad1f-f57e524cc81e",
   "metadata": {
    "tags": []
   },
   "outputs": [
    {
     "data": {
      "text/html": [
       "<div>\n",
       "<style scoped>\n",
       "    .dataframe tbody tr th:only-of-type {\n",
       "        vertical-align: middle;\n",
       "    }\n",
       "\n",
       "    .dataframe tbody tr th {\n",
       "        vertical-align: top;\n",
       "    }\n",
       "\n",
       "    .dataframe thead th {\n",
       "        text-align: right;\n",
       "    }\n",
       "</style>\n",
       "<table border=\"1\" class=\"dataframe\">\n",
       "  <thead>\n",
       "    <tr style=\"text-align: right;\">\n",
       "      <th></th>\n",
       "      <th>booliId</th>\n",
       "      <th>listPrice</th>\n",
       "      <th>rent</th>\n",
       "      <th>livingArea</th>\n",
       "      <th>soldPrice</th>\n",
       "      <th>floor</th>\n",
       "      <th>location.address.streetAddress</th>\n",
       "      <th>ppSqm</th>\n",
       "      <th>source.name</th>\n",
       "    </tr>\n",
       "  </thead>\n",
       "  <tbody>\n",
       "    <tr>\n",
       "      <th>67</th>\n",
       "      <td>2018259</td>\n",
       "      <td>1595000</td>\n",
       "      <td>1464.0</td>\n",
       "      <td>24.0</td>\n",
       "      <td>2500000</td>\n",
       "      <td>3.0</td>\n",
       "      <td>Ekhagsvägen 8</td>\n",
       "      <td>104167.0</td>\n",
       "      <td>Notar</td>\n",
       "    </tr>\n",
       "    <tr>\n",
       "      <th>50</th>\n",
       "      <td>2125576</td>\n",
       "      <td>1890000</td>\n",
       "      <td>1464.0</td>\n",
       "      <td>24.0</td>\n",
       "      <td>2450000</td>\n",
       "      <td>3.0</td>\n",
       "      <td>Ekhagsvägen 8</td>\n",
       "      <td>102083.0</td>\n",
       "      <td>HusmanHagberg</td>\n",
       "    </tr>\n",
       "    <tr>\n",
       "      <th>54</th>\n",
       "      <td>2078171</td>\n",
       "      <td>1795000</td>\n",
       "      <td>1374.0</td>\n",
       "      <td>23.0</td>\n",
       "      <td>2300000</td>\n",
       "      <td>1.0</td>\n",
       "      <td>Ekhagsvägen 10</td>\n",
       "      <td>100000.0</td>\n",
       "      <td>Notar</td>\n",
       "    </tr>\n",
       "    <tr>\n",
       "      <th>34</th>\n",
       "      <td>2330886</td>\n",
       "      <td>1750000</td>\n",
       "      <td>1144.0</td>\n",
       "      <td>25.0</td>\n",
       "      <td>2210000</td>\n",
       "      <td>0.0</td>\n",
       "      <td>Torphagsvägen 4</td>\n",
       "      <td>88400.0</td>\n",
       "      <td>HusmanHagberg</td>\n",
       "    </tr>\n",
       "    <tr>\n",
       "      <th>55</th>\n",
       "      <td>2067384</td>\n",
       "      <td>1895000</td>\n",
       "      <td>1522.0</td>\n",
       "      <td>26.9</td>\n",
       "      <td>2300000</td>\n",
       "      <td>2.0</td>\n",
       "      <td>Docentbacken 1B</td>\n",
       "      <td>85502.0</td>\n",
       "      <td>Notar</td>\n",
       "    </tr>\n",
       "  </tbody>\n",
       "</table>\n",
       "</div>"
      ],
      "text/plain": [
       "    booliId  listPrice    rent  livingArea  soldPrice  floor  \\\n",
       "67  2018259    1595000  1464.0        24.0    2500000    3.0   \n",
       "50  2125576    1890000  1464.0        24.0    2450000    3.0   \n",
       "54  2078171    1795000  1374.0        23.0    2300000    1.0   \n",
       "34  2330886    1750000  1144.0        25.0    2210000    0.0   \n",
       "55  2067384    1895000  1522.0        26.9    2300000    2.0   \n",
       "\n",
       "   location.address.streetAddress     ppSqm    source.name  \n",
       "67                  Ekhagsvägen 8  104167.0          Notar  \n",
       "50                  Ekhagsvägen 8  102083.0  HusmanHagberg  \n",
       "54                 Ekhagsvägen 10  100000.0          Notar  \n",
       "34                Torphagsvägen 4   88400.0  HusmanHagberg  \n",
       "55                Docentbacken 1B   85502.0          Notar  "
      ]
     },
     "execution_count": 178,
     "metadata": {},
     "output_type": "execute_result"
    }
   ],
   "source": [
    "# sorting the selected subset of dataframe\n",
    "sorted_df = selected_df.sort_values('ppSqm', ascending=False).head(5)\n",
    "\n",
    "sorted_df\n"
   ]
  },
  {
   "cell_type": "markdown",
   "id": "d84fb976-0c27-4480-9595-3e4d88161187",
   "metadata": {},
   "source": [
    "#### 3.  What is the average ppSqm in Ekhagen?"
   ]
  },
  {
   "cell_type": "markdown",
   "id": "d8b63c9b-d67c-4416-891b-4f6d90e6dd5a",
   "metadata": {},
   "source": [
    "I need to filter the selected data so I only obtain data entries\n",
    "where the location address contains the name 'Ekhag'. \n",
    "Calculate then the mean value of the ppSqm data."
   ]
  },
  {
   "cell_type": "code",
   "execution_count": 181,
   "id": "5b78f1e1-4168-44ac-bd71-aff2acfb8575",
   "metadata": {
    "tags": []
   },
   "outputs": [
    {
     "name": "stdout",
     "output_type": "stream",
     "text": [
      "Average price per square meter in Ekhagen: 60636.0\n"
     ]
    }
   ],
   "source": [
    "#Filtering for apartments in Ekhagen\n",
    "filtered_df = selected_df[df['location.address.streetAddress'].str.contains('Ekhag', na=False)]\n",
    "\n",
    "print(f\"Average price per square meter in Ekhagen: {filtered_df['ppSqm'].mean().round()}\")\n",
    "\n"
   ]
  },
  {
   "cell_type": "markdown",
   "id": "5101c793-dc9f-48d3-ab7b-edd3cb8c1f26",
   "metadata": {},
   "source": [
    "#### 4. Highlight an aspect of the data you find interesting"
   ]
  },
  {
   "cell_type": "markdown",
   "id": "2d26d7c0-e0c4-42f1-9c88-17785e9fb4da",
   "metadata": {
    "tags": []
   },
   "source": [
    "The number of rooms in an appartment that a buyer needs often indcates that the buyer is a single houshold,\n",
    "a couple or a family with members larger than 2. \n",
    "\n",
    "So plotting a histogram showing the frequency of \"room-number\" might tell us the size of the houshold.\n",
    "\n",
    "The histogram below shows that apartments with 2 rooms are the most commonly sold.\n"
   ]
  },
  {
   "cell_type": "code",
   "execution_count": 20,
   "id": "d2e23399-2d82-4490-a7bb-04dec3c6e61f",
   "metadata": {
    "tags": []
   },
   "outputs": [
    {
     "data": {
      "text/plain": [
       "(array([27., 72., 29., 23.,  4.,  2.]),\n",
       " array([1., 2., 3., 4., 5., 6., 7.]),\n",
       " <BarContainer object of 6 artists>)"
      ]
     },
     "execution_count": 20,
     "metadata": {},
     "output_type": "execute_result"
    },
    {
     "data": {
      "image/png": "[encoded data removed]",
      "text/plain": [
       "<Figure size 640x480 with 1 Axes>"
      ]
     },
     "metadata": {},
     "output_type": "display_data"
    }
   ],
   "source": [
    "plt.hist(df['rooms'], bins=range(1,8))\n"
   ]
  },
  {
   "cell_type": "markdown",
   "id": "f4c5f636-3544-4b00-bcbf-dc46211aaad3",
   "metadata": {},
   "source": [
    "### Part 2 - The Swedish election of 2018"
   ]
  },
  {
   "cell_type": "code",
   "execution_count": 184,
   "id": "715e3111-5420-4382-ac0b-7e0b83823153",
   "metadata": {
    "tags": []
   },
   "outputs": [
    {
     "data": {
      "text/html": [
       "<div>\n",
       "<style scoped>\n",
       "    .dataframe tbody tr th:only-of-type {\n",
       "        vertical-align: middle;\n",
       "    }\n",
       "\n",
       "    .dataframe tbody tr th {\n",
       "        vertical-align: top;\n",
       "    }\n",
       "\n",
       "    .dataframe thead th {\n",
       "        text-align: right;\n",
       "    }\n",
       "</style>\n",
       "<table border=\"1\" class=\"dataframe\">\n",
       "  <thead>\n",
       "    <tr style=\"text-align: right;\">\n",
       "      <th></th>\n",
       "      <th>LÄNSKOD</th>\n",
       "      <th>KOMMUNKOD</th>\n",
       "      <th>LÄNSNAMN</th>\n",
       "      <th>KOMMUNNAMN</th>\n",
       "      <th>M</th>\n",
       "      <th>C</th>\n",
       "      <th>L</th>\n",
       "      <th>KD</th>\n",
       "      <th>S</th>\n",
       "      <th>V</th>\n",
       "      <th>...</th>\n",
       "      <th>TRP</th>\n",
       "      <th>VL-S</th>\n",
       "      <th>ÖVR</th>\n",
       "      <th>OGEJ</th>\n",
       "      <th>BLANK</th>\n",
       "      <th>OG</th>\n",
       "      <th>RÖSTER GILTIGA</th>\n",
       "      <th>RÖSTANDE</th>\n",
       "      <th>RÖSTBERÄTTIGADE</th>\n",
       "      <th>VALDELTAGANDE</th>\n",
       "    </tr>\n",
       "  </thead>\n",
       "  <tbody>\n",
       "    <tr>\n",
       "      <th>0</th>\n",
       "      <td>1</td>\n",
       "      <td>14</td>\n",
       "      <td>Stockholms län</td>\n",
       "      <td>Upplands Väsby</td>\n",
       "      <td>23.11</td>\n",
       "      <td>6.26</td>\n",
       "      <td>5.66</td>\n",
       "      <td>6.71</td>\n",
       "      <td>26.97</td>\n",
       "      <td>8.01</td>\n",
       "      <td>...</td>\n",
       "      <td>NaN</td>\n",
       "      <td>NaN</td>\n",
       "      <td>NaN</td>\n",
       "      <td>0.04</td>\n",
       "      <td>0.69</td>\n",
       "      <td>0.06</td>\n",
       "      <td>25830</td>\n",
       "      <td>26036</td>\n",
       "      <td>30740</td>\n",
       "      <td>84.70</td>\n",
       "    </tr>\n",
       "    <tr>\n",
       "      <th>1</th>\n",
       "      <td>1</td>\n",
       "      <td>15</td>\n",
       "      <td>Stockholms län</td>\n",
       "      <td>Vallentuna</td>\n",
       "      <td>28.29</td>\n",
       "      <td>10.11</td>\n",
       "      <td>7.73</td>\n",
       "      <td>7.58</td>\n",
       "      <td>18.91</td>\n",
       "      <td>4.47</td>\n",
       "      <td>...</td>\n",
       "      <td>0.0</td>\n",
       "      <td>NaN</td>\n",
       "      <td>0.00</td>\n",
       "      <td>0.02</td>\n",
       "      <td>0.59</td>\n",
       "      <td>0.08</td>\n",
       "      <td>20952</td>\n",
       "      <td>21099</td>\n",
       "      <td>23438</td>\n",
       "      <td>90.02</td>\n",
       "    </tr>\n",
       "    <tr>\n",
       "      <th>2</th>\n",
       "      <td>1</td>\n",
       "      <td>17</td>\n",
       "      <td>Stockholms län</td>\n",
       "      <td>Österåker</td>\n",
       "      <td>29.68</td>\n",
       "      <td>9.35</td>\n",
       "      <td>7.48</td>\n",
       "      <td>7.13</td>\n",
       "      <td>19.71</td>\n",
       "      <td>4.97</td>\n",
       "      <td>...</td>\n",
       "      <td>NaN</td>\n",
       "      <td>NaN</td>\n",
       "      <td>0.01</td>\n",
       "      <td>0.03</td>\n",
       "      <td>0.69</td>\n",
       "      <td>0.13</td>\n",
       "      <td>27711</td>\n",
       "      <td>27947</td>\n",
       "      <td>31309</td>\n",
       "      <td>89.26</td>\n",
       "    </tr>\n",
       "    <tr>\n",
       "      <th>3</th>\n",
       "      <td>1</td>\n",
       "      <td>20</td>\n",
       "      <td>Stockholms län</td>\n",
       "      <td>Värmdö</td>\n",
       "      <td>27.49</td>\n",
       "      <td>9.76</td>\n",
       "      <td>6.40</td>\n",
       "      <td>5.89</td>\n",
       "      <td>20.48</td>\n",
       "      <td>6.02</td>\n",
       "      <td>...</td>\n",
       "      <td>NaN</td>\n",
       "      <td>NaN</td>\n",
       "      <td>0.01</td>\n",
       "      <td>0.04</td>\n",
       "      <td>0.67</td>\n",
       "      <td>0.07</td>\n",
       "      <td>28115</td>\n",
       "      <td>28335</td>\n",
       "      <td>31371</td>\n",
       "      <td>90.32</td>\n",
       "    </tr>\n",
       "    <tr>\n",
       "      <th>4</th>\n",
       "      <td>1</td>\n",
       "      <td>23</td>\n",
       "      <td>Stockholms län</td>\n",
       "      <td>Järfälla</td>\n",
       "      <td>23.96</td>\n",
       "      <td>6.31</td>\n",
       "      <td>6.04</td>\n",
       "      <td>6.29</td>\n",
       "      <td>27.68</td>\n",
       "      <td>8.75</td>\n",
       "      <td>...</td>\n",
       "      <td>0.0</td>\n",
       "      <td>NaN</td>\n",
       "      <td>0.02</td>\n",
       "      <td>0.04</td>\n",
       "      <td>0.53</td>\n",
       "      <td>0.07</td>\n",
       "      <td>45654</td>\n",
       "      <td>45948</td>\n",
       "      <td>53230</td>\n",
       "      <td>86.32</td>\n",
       "    </tr>\n",
       "  </tbody>\n",
       "</table>\n",
       "<p>5 rows × 45 columns</p>\n",
       "</div>"
      ],
      "text/plain": [
       "   LÄNSKOD  KOMMUNKOD        LÄNSNAMN      KOMMUNNAMN      M      C     L  \\\n",
       "0        1         14  Stockholms län  Upplands Väsby  23.11   6.26  5.66   \n",
       "1        1         15  Stockholms län      Vallentuna  28.29  10.11  7.73   \n",
       "2        1         17  Stockholms län       Österåker  29.68   9.35  7.48   \n",
       "3        1         20  Stockholms län          Värmdö  27.49   9.76  6.40   \n",
       "4        1         23  Stockholms län        Järfälla  23.96   6.31  6.04   \n",
       "\n",
       "     KD      S     V  ...  TRP  VL-S   ÖVR  OGEJ  BLANK    OG  RÖSTER GILTIGA  \\\n",
       "0  6.71  26.97  8.01  ...  NaN   NaN   NaN  0.04   0.69  0.06           25830   \n",
       "1  7.58  18.91  4.47  ...  0.0   NaN  0.00  0.02   0.59  0.08           20952   \n",
       "2  7.13  19.71  4.97  ...  NaN   NaN  0.01  0.03   0.69  0.13           27711   \n",
       "3  5.89  20.48  6.02  ...  NaN   NaN  0.01  0.04   0.67  0.07           28115   \n",
       "4  6.29  27.68  8.75  ...  0.0   NaN  0.02  0.04   0.53  0.07           45654   \n",
       "\n",
       "   RÖSTANDE  RÖSTBERÄTTIGADE  VALDELTAGANDE  \n",
       "0     26036            30740          84.70  \n",
       "1     21099            23438          90.02  \n",
       "2     27947            31309          89.26  \n",
       "3     28335            31371          90.32  \n",
       "4     45948            53230          86.32  \n",
       "\n",
       "[5 rows x 45 columns]"
      ]
     },
     "execution_count": 184,
     "metadata": {},
     "output_type": "execute_result"
    }
   ],
   "source": [
    "# Read the data from file\n",
    "df_election = pd.read_csv(\"https://raw.githubusercontent.com/su-mt4007/data/refs/heads/main/2018_R_per_kommun.csv\", sep=\";\", decimal=',')\n",
    "\n",
    "#preview data\n",
    "df_election.head()\n"
   ]
  },
  {
   "cell_type": "markdown",
   "id": "613ad570-989f-4ef1-a031-f1bcbcf00290",
   "metadata": {},
   "source": [
    "#### 1.  Calculate the total number of legitimate votes in Stockholm during the election\n",
    "Make sure to filter data with observation data for stockholm only.\n",
    "Select a subset of the filtered data for two relevant variables.\n",
    "Group the stockholm data and calculate the number of legitimate votes. "
   ]
  },
  {
   "cell_type": "code",
   "execution_count": 186,
   "id": "1682f00f-26d0-4c14-8815-182fd47316ad",
   "metadata": {
    "tags": []
   },
   "outputs": [
    {
     "data": {
      "text/html": [
       "<div>\n",
       "<style scoped>\n",
       "    .dataframe tbody tr th:only-of-type {\n",
       "        vertical-align: middle;\n",
       "    }\n",
       "\n",
       "    .dataframe tbody tr th {\n",
       "        vertical-align: top;\n",
       "    }\n",
       "\n",
       "    .dataframe thead th {\n",
       "        text-align: right;\n",
       "    }\n",
       "</style>\n",
       "<table border=\"1\" class=\"dataframe\">\n",
       "  <thead>\n",
       "    <tr style=\"text-align: right;\">\n",
       "      <th></th>\n",
       "      <th>RÖSTER GILTIGA</th>\n",
       "    </tr>\n",
       "    <tr>\n",
       "      <th>LÄNSNAMN</th>\n",
       "      <th></th>\n",
       "    </tr>\n",
       "  </thead>\n",
       "  <tbody>\n",
       "    <tr>\n",
       "      <th>Stockholms län</th>\n",
       "      <td>1426237</td>\n",
       "    </tr>\n",
       "  </tbody>\n",
       "</table>\n",
       "</div>"
      ],
      "text/plain": [
       "                RÖSTER GILTIGA\n",
       "LÄNSNAMN                      \n",
       "Stockholms län         1426237"
      ]
     },
     "execution_count": 186,
     "metadata": {},
     "output_type": "execute_result"
    }
   ],
   "source": [
    "#Filter data only from stockholm\n",
    "df_election_sthlm = df_election[ df_election['LÄNSNAMN'] == 'Stockholms län']\n",
    "\n",
    "#Select specific data of interest from stockholm\n",
    "df_leg_votes_sthlm = df_election_sthlm[['LÄNSNAMN', 'RÖSTER GILTIGA']]\n",
    "\n",
    "#Aggregate the legitimate votes in stockholm\n",
    "df_leg_votes_sthlm.groupby(\"LÄNSNAMN\").sum()\n",
    "\n"
   ]
  },
  {
   "cell_type": "markdown",
   "id": "6cdc416b-f20c-4dfa-a04b-b0b97ab2acf2",
   "metadata": {},
   "source": [
    "#### 2.  In which municipality did the social democratic party, garner the hightest voting percentage?\n",
    "\n",
    "Find the entry in the data of stockholm where the value of column variable S is maximum.\n",
    "Use the index for this entry to present the municipality and the highest voting."
   ]
  },
  {
   "cell_type": "code",
   "execution_count": 189,
   "id": "e3f14e25-db9c-4df4-8b1c-6de6786203bc",
   "metadata": {
    "tags": []
   },
   "outputs": [
    {
     "data": {
      "text/html": [
       "<div>\n",
       "<style scoped>\n",
       "    .dataframe tbody tr th:only-of-type {\n",
       "        vertical-align: middle;\n",
       "    }\n",
       "\n",
       "    .dataframe tbody tr th {\n",
       "        vertical-align: top;\n",
       "    }\n",
       "\n",
       "    .dataframe thead th {\n",
       "        text-align: right;\n",
       "    }\n",
       "</style>\n",
       "<table border=\"1\" class=\"dataframe\">\n",
       "  <thead>\n",
       "    <tr style=\"text-align: right;\">\n",
       "      <th></th>\n",
       "      <th>KOMMUNNAMN</th>\n",
       "      <th>S</th>\n",
       "    </tr>\n",
       "  </thead>\n",
       "  <tbody>\n",
       "    <tr>\n",
       "      <th>7</th>\n",
       "      <td>Botkyrka</td>\n",
       "      <td>32.34</td>\n",
       "    </tr>\n",
       "  </tbody>\n",
       "</table>\n",
       "</div>"
      ],
      "text/plain": [
       "  KOMMUNNAMN      S\n",
       "7   Botkyrka  32.34"
      ]
     },
     "execution_count": 189,
     "metadata": {},
     "output_type": "execute_result"
    }
   ],
   "source": [
    "#Find the entry that gives max value for S in stockholm\n",
    "row_id = df_election_sthlm['S'].idxmax()\n",
    "\n",
    "#view specific data for that entry \n",
    "df_election_sthlm.loc[[row_id]] [['KOMMUNNAMN','S']]\n",
    "\n"
   ]
  },
  {
   "cell_type": "markdown",
   "id": "2d610405-0f3f-4141-8547-5b9a4338704b",
   "metadata": {
    "tags": []
   },
   "source": [
    "#### 3.  Rank the (3) municipialities with highest participation\n",
    "\n",
    "Sorting the stockholm data with respect to variable VALDELTAGANDE in descending order and present the top head of the data for the municipality and participation."
   ]
  },
  {
   "cell_type": "code",
   "execution_count": 193,
   "id": "a9262c2e-06f5-4845-8fda-d912e98cf1be",
   "metadata": {
    "tags": []
   },
   "outputs": [
    {
     "data": {
      "text/html": [
       "<div>\n",
       "<style scoped>\n",
       "    .dataframe tbody tr th:only-of-type {\n",
       "        vertical-align: middle;\n",
       "    }\n",
       "\n",
       "    .dataframe tbody tr th {\n",
       "        vertical-align: top;\n",
       "    }\n",
       "\n",
       "    .dataframe thead th {\n",
       "        text-align: right;\n",
       "    }\n",
       "</style>\n",
       "<table border=\"1\" class=\"dataframe\">\n",
       "  <thead>\n",
       "    <tr style=\"text-align: right;\">\n",
       "      <th></th>\n",
       "      <th>KOMMUNNAMN</th>\n",
       "      <th>VALDELTAGANDE</th>\n",
       "    </tr>\n",
       "  </thead>\n",
       "  <tbody>\n",
       "    <tr>\n",
       "      <th>22</th>\n",
       "      <td>Vaxholm</td>\n",
       "      <td>92.74</td>\n",
       "    </tr>\n",
       "    <tr>\n",
       "      <th>5</th>\n",
       "      <td>Ekerö</td>\n",
       "      <td>92.16</td>\n",
       "    </tr>\n",
       "    <tr>\n",
       "      <th>14</th>\n",
       "      <td>Danderyd</td>\n",
       "      <td>91.92</td>\n",
       "    </tr>\n",
       "  </tbody>\n",
       "</table>\n",
       "</div>"
      ],
      "text/plain": [
       "   KOMMUNNAMN  VALDELTAGANDE\n",
       "22    Vaxholm          92.74\n",
       "5       Ekerö          92.16\n",
       "14   Danderyd          91.92"
      ]
     },
     "execution_count": 193,
     "metadata": {},
     "output_type": "execute_result"
    }
   ],
   "source": [
    "#Sorting with respect to election participation\n",
    "sorted_participation_df = df_election_sthlm.sort_values('VALDELTAGANDE', ascending=False)\n",
    "\n",
    "#View data \n",
    "sorted_participation_df[['KOMMUNNAMN', 'VALDELTAGANDE']].head(3)\n",
    "\n"
   ]
  },
  {
   "cell_type": "markdown",
   "id": "4e1449fa-ae7b-4bf7-89c3-d8ed90b2bcc8",
   "metadata": {
    "tags": []
   },
   "source": [
    "### Part 3 - Predicting strokes\n"
   ]
  },
  {
   "cell_type": "code",
   "execution_count": 195,
   "id": "577b7c05-fce1-497b-bdbd-c405dd8034ad",
   "metadata": {
    "tags": []
   },
   "outputs": [
    {
     "data": {
      "text/html": [
       "<div>\n",
       "<style scoped>\n",
       "    .dataframe tbody tr th:only-of-type {\n",
       "        vertical-align: middle;\n",
       "    }\n",
       "\n",
       "    .dataframe tbody tr th {\n",
       "        vertical-align: top;\n",
       "    }\n",
       "\n",
       "    .dataframe thead th {\n",
       "        text-align: right;\n",
       "    }\n",
       "</style>\n",
       "<table border=\"1\" class=\"dataframe\">\n",
       "  <thead>\n",
       "    <tr style=\"text-align: right;\">\n",
       "      <th></th>\n",
       "      <th>id</th>\n",
       "      <th>gender</th>\n",
       "      <th>age</th>\n",
       "      <th>hypertension</th>\n",
       "      <th>heart_disease</th>\n",
       "      <th>ever_married</th>\n",
       "      <th>work_type</th>\n",
       "      <th>Residence_type</th>\n",
       "      <th>avg_glucose_level</th>\n",
       "      <th>bmi</th>\n",
       "      <th>smoking_status</th>\n",
       "      <th>stroke</th>\n",
       "    </tr>\n",
       "  </thead>\n",
       "  <tbody>\n",
       "    <tr>\n",
       "      <th>0</th>\n",
       "      <td>9046</td>\n",
       "      <td>Male</td>\n",
       "      <td>67.0</td>\n",
       "      <td>0</td>\n",
       "      <td>1</td>\n",
       "      <td>Yes</td>\n",
       "      <td>Private</td>\n",
       "      <td>Urban</td>\n",
       "      <td>228.69</td>\n",
       "      <td>36.6</td>\n",
       "      <td>formerly smoked</td>\n",
       "      <td>1</td>\n",
       "    </tr>\n",
       "    <tr>\n",
       "      <th>1</th>\n",
       "      <td>51676</td>\n",
       "      <td>Female</td>\n",
       "      <td>61.0</td>\n",
       "      <td>0</td>\n",
       "      <td>0</td>\n",
       "      <td>Yes</td>\n",
       "      <td>Self-employed</td>\n",
       "      <td>Rural</td>\n",
       "      <td>202.21</td>\n",
       "      <td>NaN</td>\n",
       "      <td>never smoked</td>\n",
       "      <td>1</td>\n",
       "    </tr>\n",
       "    <tr>\n",
       "      <th>2</th>\n",
       "      <td>31112</td>\n",
       "      <td>Male</td>\n",
       "      <td>80.0</td>\n",
       "      <td>0</td>\n",
       "      <td>1</td>\n",
       "      <td>Yes</td>\n",
       "      <td>Private</td>\n",
       "      <td>Rural</td>\n",
       "      <td>105.92</td>\n",
       "      <td>32.5</td>\n",
       "      <td>never smoked</td>\n",
       "      <td>1</td>\n",
       "    </tr>\n",
       "    <tr>\n",
       "      <th>3</th>\n",
       "      <td>60182</td>\n",
       "      <td>Female</td>\n",
       "      <td>49.0</td>\n",
       "      <td>0</td>\n",
       "      <td>0</td>\n",
       "      <td>Yes</td>\n",
       "      <td>Private</td>\n",
       "      <td>Urban</td>\n",
       "      <td>171.23</td>\n",
       "      <td>34.4</td>\n",
       "      <td>smokes</td>\n",
       "      <td>1</td>\n",
       "    </tr>\n",
       "    <tr>\n",
       "      <th>4</th>\n",
       "      <td>1665</td>\n",
       "      <td>Female</td>\n",
       "      <td>79.0</td>\n",
       "      <td>1</td>\n",
       "      <td>0</td>\n",
       "      <td>Yes</td>\n",
       "      <td>Self-employed</td>\n",
       "      <td>Rural</td>\n",
       "      <td>174.12</td>\n",
       "      <td>24.0</td>\n",
       "      <td>never smoked</td>\n",
       "      <td>1</td>\n",
       "    </tr>\n",
       "  </tbody>\n",
       "</table>\n",
       "</div>"
      ],
      "text/plain": [
       "      id  gender   age  hypertension  heart_disease ever_married  \\\n",
       "0   9046    Male  67.0             0              1          Yes   \n",
       "1  51676  Female  61.0             0              0          Yes   \n",
       "2  31112    Male  80.0             0              1          Yes   \n",
       "3  60182  Female  49.0             0              0          Yes   \n",
       "4   1665  Female  79.0             1              0          Yes   \n",
       "\n",
       "       work_type Residence_type  avg_glucose_level   bmi   smoking_status  \\\n",
       "0        Private          Urban             228.69  36.6  formerly smoked   \n",
       "1  Self-employed          Rural             202.21   NaN     never smoked   \n",
       "2        Private          Rural             105.92  32.5     never smoked   \n",
       "3        Private          Urban             171.23  34.4           smokes   \n",
       "4  Self-employed          Rural             174.12  24.0     never smoked   \n",
       "\n",
       "   stroke  \n",
       "0       1  \n",
       "1       1  \n",
       "2       1  \n",
       "3       1  \n",
       "4       1  "
      ]
     },
     "execution_count": 195,
     "metadata": {},
     "output_type": "execute_result"
    }
   ],
   "source": [
    "#Read data\n",
    "df_health = pd.read_csv(\"https://raw.githubusercontent.com/su-mt4007/data/refs/heads/main/stroke-data.csv\")\n",
    "\n",
    "#View data\n",
    "df_health.head()\n"
   ]
  },
  {
   "cell_type": "markdown",
   "id": "6604c750-0216-40b0-aea4-82bd78892f4f",
   "metadata": {},
   "source": [
    "Check the distribution of age in data to make sure it is relatively balanced."
   ]
  },
  {
   "cell_type": "code",
   "execution_count": 198,
   "id": "32932fc3-95e1-451c-8c6d-02f49b29af86",
   "metadata": {
    "tags": []
   },
   "outputs": [
    {
     "data": {
      "image/png": "[encoded data removed]",
      "text/plain": [
       "<Figure size 640x480 with 1 Axes>"
      ]
     },
     "metadata": {},
     "output_type": "display_data"
    }
   ],
   "source": [
    "plt.hist(df_health['age'], bins=20, color='skyblue', edgecolor='black')\n",
    "\n",
    "# Specify title and axes\n",
    "plt.title(\"Age Distribution in Health Data\") \n",
    "plt.xlabel(\"Age\") \n",
    "plt.ylabel(\"Frequency\")\n",
    "\n",
    "# show diagram\n",
    "plt.show()\n",
    "\n"
   ]
  },
  {
   "cell_type": "markdown",
   "id": "2d98f3bb-30e7-4efa-a62b-808678be6508",
   "metadata": {},
   "source": [
    " Since age distribution is fairly balanced, I will examine the risk of stroke with respect to age."
   ]
  },
  {
   "cell_type": "code",
   "execution_count": 200,
   "id": "3b924ccd-3a4a-4bc8-acc7-3f9ad158f678",
   "metadata": {
    "tags": []
   },
   "outputs": [
    {
     "data": {
      "image/png": "[encoded data removed]",
      "text/plain": [
       "<Figure size 640x480 with 1 Axes>"
      ]
     },
     "metadata": {},
     "output_type": "display_data"
    }
   ],
   "source": [
    "\n",
    "sns.boxplot(data=df_health, x='stroke', y='age')\n",
    "plt.title(\"Age Distribution by Stroke Status\")\n",
    "plt.show()\n"
   ]
  },
  {
   "cell_type": "markdown",
   "id": "a5500df3-2a19-4ad3-b544-b7bbd8797998",
   "metadata": {},
   "source": [
    "The diagram shows that the risk of stroke is more common among older people.\n",
    "It is also interesting to check if heart disease increases the risk of stroke."
   ]
  },
  {
   "cell_type": "code",
   "execution_count": 204,
   "id": "d638719d-f10d-4385-a464-169d3ff3d1b2",
   "metadata": {
    "tags": []
   },
   "outputs": [
    {
     "data": {
      "image/png": "[encoded data removed]",
      "text/plain": [
       "<Figure size 640x480 with 1 Axes>"
      ]
     },
     "metadata": {},
     "output_type": "display_data"
    }
   ],
   "source": [
    "#Group data to get the proportional distribution of stroke status for those with heart disease \n",
    "stroke_counts = df_health.groupby('heart_disease')['stroke'].value_counts(normalize=True).unstack()\n",
    "\n",
    "# Plot a bar diagram\n",
    "stroke_counts.plot(kind='bar', stacked=True, color=['skyblue', 'orange'])\n",
    "plt.title(\"Proportion of Stroke Cases by heart_disease\")\n",
    "plt.xlabel(\"Heart disease (0 = No, 1 = Yes)\")\n",
    "plt.ylabel(\"Proportion\")\n",
    "plt.legend([\"No Stroke\", \"Stroke\"], title=\"Stroke Status\")\n",
    "plt.show()"
   ]
  },
  {
   "cell_type": "markdown",
   "id": "d0855a2a-d268-4158-a0f1-21d9e20bc590",
   "metadata": {},
   "source": [
    "There is a larger proportion of people with heart disease that suffered a stroke compared \n",
    "to those with no heart disease."
   ]
  }
 ],
 "metadata": {
  "kernelspec": {
   "display_name": "Python 3 (ipykernel)",
   "language": "python",
   "name": "python3"
  },
  "language_info": {
   "codemirror_mode": {
    "name": "ipython",
    "version": 3
   },
   "file_extension": ".py",
   "mimetype": "text/x-python",
   "name": "python",
   "nbconvert_exporter": "python",
   "pygments_lexer": "ipython3",
   "version": "3.11.7"
  }
 },
 "nbformat": 4,
 "nbformat_minor": 5
}
